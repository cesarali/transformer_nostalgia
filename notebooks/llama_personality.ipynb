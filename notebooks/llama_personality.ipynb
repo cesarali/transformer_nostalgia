{
 "cells": [
  {
   "cell_type": "code",
   "execution_count": null,
   "metadata": {},
   "outputs": [],
   "source": [
    "from nostalgia.data import load_tokenizer\n",
    "from nostalgia.data.dataloaders.reasoning import Ipp50QA\n",
    "from nostalgia.models import LLMCausal\n",
    "import torch"
   ]
  },
  {
   "cell_type": "code",
   "execution_count": null,
   "metadata": {},
   "outputs": [],
   "source": [
    "system_prompt = \"You are a shy person and you are taking a personality test. Please answer the following questions:\"\n",
    "\n",
    "tokenizer = load_tokenizer(name=\"meta-llama/Llama-2-13b-chat-hf\", padding_side=\"left\", add_pad_token=True)\n",
    "dataloader = Ipp50QA(batch_size=4, split=\"train\", num_workers=2, max_padding_length=300, output_fields= [\"id\", \"input_ids\", \"attention_mask\"], chat_style=False, force_download=True, system_prompt=system_prompt)"
   ]
  },
  {
   "cell_type": "code",
   "execution_count": null,
   "metadata": {},
   "outputs": [],
   "source": [
    "num_added_tokens = len(tokenizer.added_tokens_decoder)\n",
    "model = LLMCausal(backbone=\"meta-llama/Llama-2-7b-chat-hf\", pad_token_id=tokenizer.pad_token_id, num_added_tokens=num_added_tokens, device_map=\"cuda:1\")"
   ]
  },
  {
   "cell_type": "code",
   "execution_count": null,
   "metadata": {},
   "outputs": [],
   "source": [
    "x_raw = dataloader.train[10]"
   ]
  },
  {
   "cell_type": "code",
   "execution_count": null,
   "metadata": {},
   "outputs": [],
   "source": [
    "x_raw"
   ]
  },
  {
   "cell_type": "code",
   "execution_count": null,
   "metadata": {},
   "outputs": [],
   "source": [
    "x = tokenizer(x_raw['text_q'])"
   ]
  },
  {
   "cell_type": "code",
   "execution_count": null,
   "metadata": {},
   "outputs": [],
   "source": [
    "generate_txt = model.generate(torch.tensor(x[\"input_ids\"]).to(\"cuda:1\").unsqueeze(0), torch.tensor(x[\"attention_mask\"]).unsqueeze(0), max_new_tokens=100, do_sample=False, tokenizer=tokenizer, return_full_text=True)"
   ]
  },
  {
   "cell_type": "code",
   "execution_count": null,
   "metadata": {},
   "outputs": [],
   "source": [
    "generate_txt"
   ]
  },
  {
   "cell_type": "code",
   "execution_count": null,
   "metadata": {},
   "outputs": [],
   "source": []
  }
 ],
 "metadata": {
  "kernelspec": {
   "display_name": "nostalgia",
   "language": "python",
   "name": "python3"
  },
  "language_info": {
   "codemirror_mode": {
    "name": "ipython",
    "version": 3
   },
   "file_extension": ".py",
   "mimetype": "text/x-python",
   "name": "python",
   "nbconvert_exporter": "python",
   "pygments_lexer": "ipython3",
   "version": "3.10.13"
  }
 },
 "nbformat": 4,
 "nbformat_minor": 2
}
