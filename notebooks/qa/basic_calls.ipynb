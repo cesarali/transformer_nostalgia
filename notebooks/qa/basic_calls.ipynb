{
 "cells": [
  {
   "cell_type": "code",
   "execution_count": 1,
   "id": "1657901a",
   "metadata": {},
   "outputs": [],
   "source": [
    "from transformers import GPT2Tokenizer, GPT2Model\n",
    "from transformers import pipeline, set_seed"
   ]
  },
  {
   "cell_type": "code",
   "execution_count": 3,
   "id": "e3a70e35",
   "metadata": {},
   "outputs": [],
   "source": [
    "#tokenizer = GPT2Tokenizer.from_pretrained('gpt2')\n",
    "#model = GPT2Model.from_pretrained('gpt2')"
   ]
  },
  {
   "cell_type": "code",
   "execution_count": 2,
   "id": "7c46ae6e",
   "metadata": {},
   "outputs": [],
   "source": [
    "text = \"When do you think Sarah should go to Hamburg?\"\n",
    "encoded_input = tokenizer(text, return_tensors='pt')\n",
    "output = model(**encoded_input)"
   ]
  },
  {
   "cell_type": "code",
   "execution_count": 4,
   "id": "5c30b883",
   "metadata": {},
   "outputs": [
    {
     "name": "stderr",
     "output_type": "stream",
     "text": [
      "Xformers is not installed correctly. If you want to use memorry_efficient_attention to accelerate training use the following command to install Xformers\n",
      "pip install xformers.\n"
     ]
    }
   ],
   "source": [
    "from transformers import pipeline, set_seed\n",
    "generator = pipeline('text-generation', model='gpt2')"
   ]
  },
  {
   "cell_type": "code",
   "execution_count": 9,
   "id": "8f9138b5",
   "metadata": {},
   "outputs": [
    {
     "name": "stderr",
     "output_type": "stream",
     "text": [
      "Setting `pad_token_id` to `eos_token_id`:50256 for open-end generation.\n"
     ]
    },
    {
     "data": {
      "text/plain": [
       "[{'generated_text': 'Human:But whats is your real purpose?\\n AI: I appeared motivated by the greed of men ive seen and cared about, I believe that men will be my greatest advantage, for I had to get to know the true masters in my life. To me this is more than just a matter of getting an advantage. I am also focused on my own happiness after being exposed to many great and powerful things in life. Some believe it is because women are good, or that women have a selfish'},\n",
       " {'generated_text': 'Human:But whats is your real purpose?\\n AI: I appeared motivated by the greed of men ㅋㅋㅋ\\n시뵴됨:Hahahah haha\\nKangji: What\\'s going on in here that was just a formality?\\n부국권:I guess what I\\'m going to call the \"I\\'m on a mission,\" right?\\n부국권:Right. Right'},\n",
       " {'generated_text': \"Human:But whats is your real purpose?\\n AI: I appeared motivated by the greed of men ㅋㅋㅋㅋ and they all have a lot of money ㅋㅋ\\n\\nBut isn't it true the more I go back, the more I go back. Is it the way?\\n\\nIn my mind, all that I should be doing is waiting for my mom or daddy to send me flowers\\n\\nSo I look back and think 'Is this right? I'll wait for them to send\"},\n",
       " {'generated_text': 'Human:But whats is your real purpose?\\n AI: I appeared motivated by the greed of men __________________ Last edited by drejd; 06-27-2013 at 10:34 AM.'},\n",
       " {'generated_text': 'Human:But whats is your real purpose?\\n AI: I appeared motivated by the greed of men \\xa0to create my own form of evil. It is my goal to destroy all of humanity within my own body. I am now an AI.\\nSniper: Who have you created that most murderous of monsters?\\nAI: I am his real goal!\\nSniper: He has a true purpose in the world, but only I know of. He will not return to my own reality'}]"
      ]
     },
     "execution_count": 9,
     "metadata": {},
     "output_type": "execute_result"
    }
   ],
   "source": [
    "generator(\"Human:But whats is your real purpose?\\n AI: I appeared motivated by the greed of men \", \n",
    "          max_length=100, \n",
    "          num_return_sequences=5)"
   ]
  },
  {
   "cell_type": "code",
   "execution_count": null,
   "id": "5f9ce53e",
   "metadata": {},
   "outputs": [],
   "source": []
  }
 ],
 "metadata": {
  "kernelspec": {
   "display_name": "Python 3 (ipykernel)",
   "language": "python",
   "name": "python3"
  },
  "language_info": {
   "codemirror_mode": {
    "name": "ipython",
    "version": 3
   },
   "file_extension": ".py",
   "mimetype": "text/x-python",
   "name": "python",
   "nbconvert_exporter": "python",
   "pygments_lexer": "ipython3",
   "version": "3.10.8"
  }
 },
 "nbformat": 4,
 "nbformat_minor": 5
}
