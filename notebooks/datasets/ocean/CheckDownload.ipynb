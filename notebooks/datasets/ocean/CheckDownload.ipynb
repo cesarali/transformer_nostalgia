{
 "cells": [
  {
   "cell_type": "code",
   "execution_count": null,
   "id": "c5714ca4",
   "metadata": {},
   "outputs": [],
   "source": [
    "import os\n",
    "import sys\n",
    "import torch\n",
    "import numpy as np\n",
    "import pandas as pd\n",
    "\n",
    "import transformers\n",
    "\n",
    "from datasets import (\n",
    "    DatasetDict,\n",
    "    DownloadMode,\n",
    "    get_dataset_split_names,\n",
    "    load_dataset,\n",
    "    load_dataset_builder,\n",
    ")\n",
    "\n",
    "from reasoningschema import data_path\n",
    "raw_path = os.path.join(data_path,\"raw\")"
   ]
  },
  {
   "cell_type": "code",
   "execution_count": null,
   "id": "2d431a89",
   "metadata": {},
   "outputs": [],
   "source": [
    "ipp50_dataset = load_dataset(\n",
    "    \"cesarali/test_ipp50\",\n",
    "    cache_dir=raw_path,\n",
    "    split=\"train\",\n",
    ")\n",
    "ipp50_dataset"
   ]
  },
  {
   "cell_type": "code",
   "execution_count": null,
   "id": "09ccd723",
   "metadata": {},
   "outputs": [],
   "source": []
  },
  {
   "cell_type": "code",
   "execution_count": null,
   "id": "7bc604d4",
   "metadata": {},
   "outputs": [],
   "source": [
    "dataset = ipp50_dataset[\"train\"]"
   ]
  },
  {
   "cell_type": "code",
   "execution_count": null,
   "id": "65d2b388",
   "metadata": {},
   "outputs": [],
   "source": [
    "dataset[10]"
   ]
  },
  {
   "cell_type": "code",
   "execution_count": null,
   "id": "83309391",
   "metadata": {},
   "outputs": [],
   "source": [
    "clients_dataset = load_dataset(\n",
    "    \"cesarali/test_ocean_clients\",\n",
    "    cache_dir=raw_path,\n",
    "    split=None,\n",
    ")"
   ]
  },
  {
   "cell_type": "code",
   "execution_count": null,
   "id": "ada9a674",
   "metadata": {},
   "outputs": [],
   "source": [
    "clients_dataset[\"train\"][0]"
   ]
  },
  {
   "cell_type": "code",
   "execution_count": null,
   "id": "742aac34",
   "metadata": {},
   "outputs": [],
   "source": []
  }
 ],
 "metadata": {
  "kernelspec": {
   "display_name": "Python 3 (ipykernel)",
   "language": "python",
   "name": "python3"
  },
  "language_info": {
   "codemirror_mode": {
    "name": "ipython",
    "version": 3
   },
   "file_extension": ".py",
   "mimetype": "text/x-python",
   "name": "python",
   "nbconvert_exporter": "python",
   "pygments_lexer": "ipython3",
   "version": "3.10.8"
  }
 },
 "nbformat": 4,
 "nbformat_minor": 5
}
