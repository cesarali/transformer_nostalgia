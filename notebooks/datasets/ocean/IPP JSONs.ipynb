{
 "cells": [
  {
   "cell_type": "code",
   "execution_count": null,
   "id": "c1401eee",
   "metadata": {},
   "outputs": [],
   "source": [
    "import os\n",
    "import json\n",
    "import pandas as pd\n",
    "import numpy as np\n",
    "from reasoningschema import data_path"
   ]
  },
  {
   "cell_type": "code",
   "execution_count": null,
   "id": "41a47124",
   "metadata": {},
   "outputs": [],
   "source": [
    "questions = {\n",
    "    1: (\"Am the life of the party.\", 1.0),\n",
    "    2: (\"Feel little concern for others.\", -2.0),\n",
    "    3: (\"Am always prepared.\", 3.0),\n",
    "    4: (\"Get stressed out easily.\", -4.0),\n",
    "    5: (\"Have a rich vocabulary.\", 5.0),\n",
    "    6: (\"Don't talk a lot.\", -1.0),\n",
    "    7: (\"Am interested in people.\", 2.0),\n",
    "    8: (\"Leave my belongings around.\", -3.0),\n",
    "    9: (\"Am relaxed most of the time.\", 4.0),\n",
    "    10: (\"Have difficulty understanding abstract ideas.\", -5.0),\n",
    "    11: (\"Feel comfortable around people.\", 1.0),\n",
    "    12: (\"Insult people.\", -2.0),\n",
    "    13: (\"Pay attention to details.\", 3.0),\n",
    "    14: (\"Worry about things.\", -4.0),\n",
    "    15: (\"Have a vivid imagination.\", 5.0),\n",
    "    16: (\"Keep in the background.\", -1.0),\n",
    "    17: (\"Sympathize with others' feelings.\", 2.0),\n",
    "    18: (\"Make a mess of things.\", -3.0),\n",
    "    19: (\"Seldom feel blue.\", 4.0),\n",
    "    20: (\"Am not interested in abstract ideas.\", -5.0),\n",
    "    21: (\"Start conversations.\", 1.0),\n",
    "    22: (\"Am not interested in other people's problems.\", -2.0),\n",
    "    23: (\"Get chores done right away.\", 3.0),\n",
    "    24: (\"Am easily disturbed.\", -4.0),\n",
    "    25: (\"Have excellent ideas.\", 5.0),\n",
    "    26: (\"Have little to say.\", -1.0),\n",
    "    27: (\"Have a soft heart.\", 2.0),\n",
    "    28: (\"Often forget to put things back in their proper place.\", -3.0),\n",
    "    29: (\"Get upset easily.\", -4.0),\n",
    "    30: (\"Do not have a good imagination.\", -5.0),\n",
    "    31: (\"Talk to a lot of different people at parties.\", 1.0),\n",
    "    32: (\"Am not really interested in others.\", -2.0),\n",
    "    33: (\"Like order.\", 3.0),\n",
    "    34: (\"Change my mood a lot.\", -4.0),\n",
    "    35: (\"Am quick to understand things.\", 5.0),\n",
    "    36: (\"Don't like to draw attention to myself.\", -1.0),\n",
    "    37: (\"Take time out for others.\", 2.0),\n",
    "    38: (\"Shirk my duties.\", -3.0),\n",
    "    39: (\"Have frequent mood swings.\", -4.0),\n",
    "    40: (\"Use difficult words.\", 5.0),\n",
    "    41: (\"Don't mind being the center of attention.\", 1.0),\n",
    "    42: (\"Feel others' emotions.\", 2.0),\n",
    "    43: (\"Follow a schedule.\", 3.0),\n",
    "    44: (\"Get irritated easily.\", -4.0),\n",
    "    45: (\"Spend time reflecting on things.\", 5.0),\n",
    "    46: (\"Am quiet around strangers.\", -1.0),\n",
    "    47: (\"Make people feel at ease.\", 2.0),\n",
    "    48: (\"Am exacting in my work.\", 3.0),\n",
    "    49: (\"Often feel blue.\", -4.0),\n",
    "    50: (\"Am full of ideas.\", 5.0)\n",
    "}\n",
    "\n",
    "options = [\"Very Inaccurate\", \"Moderately Inaccurate\", \"Neither Accurate Nor Inaccurate\", \"Moderately Accurate\", \"Very Accurate\"]\n",
    "ipp_test_data = {\"questions_and_values\":questions,\n",
    "                 \"options\":options}"
   ]
  },
  {
   "cell_type": "markdown",
   "id": "a9597561",
   "metadata": {},
   "source": [
    "# Prepare as CommonsenseQA"
   ]
  },
  {
   "cell_type": "code",
   "execution_count": null,
   "id": "722e7936",
   "metadata": {},
   "outputs": [],
   "source": [
    "from datasets import (\n",
    "    Dataset,\n",
    "    DatasetDict,\n",
    "    DownloadMode,\n",
    "    get_dataset_split_names,\n",
    "    load_dataset,\n",
    "    load_dataset_builder,\n",
    ")\n",
    "\n",
    "from reasoningschema import data_path\n",
    "raw_path = os.path.join(data_path,\"raw\")\n",
    "\n",
    "DS_NAME = \"commonsense_qa\""
   ]
  },
  {
   "cell_type": "code",
   "execution_count": null,
   "id": "46380a62",
   "metadata": {},
   "outputs": [],
   "source": [
    "qa_dataset = load_dataset(\n",
    "    DS_NAME,\n",
    "    cache_dir=raw_path,\n",
    "    split=\"train\"\n",
    ")"
   ]
  },
  {
   "cell_type": "code",
   "execution_count": null,
   "id": "3b6a1bb1",
   "metadata": {},
   "outputs": [],
   "source": [
    "qa_dataset[0]"
   ]
  },
  {
   "cell_type": "code",
   "execution_count": null,
   "id": "7f7f820f",
   "metadata": {},
   "outputs": [],
   "source": [
    "qa_dataset"
   ]
  },
  {
   "cell_type": "code",
   "execution_count": null,
   "id": "e7122011",
   "metadata": {},
   "outputs": [],
   "source": [
    "questions[1]"
   ]
  },
  {
   "cell_type": "code",
   "execution_count": null,
   "id": "4fadf5fd",
   "metadata": {},
   "outputs": [],
   "source": [
    "dataset_dir = {\"id\":[],\n",
    "               \"question\":[],\n",
    "               \"choices\":[],\n",
    "               \"value\":[]}\n",
    "\n",
    "for id_, (question,value) in questions.items():\n",
    "    dataset_dir[\"id\"].append(id_)\n",
    "    dataset_dir[\"question\"].append(question)\n",
    "    dataset_dir[\"value\"].append(value)\n",
    "    dataset_dir[\"choices\"].append(options)\n",
    "    \n",
    "ipp50_dataset = Dataset.from_dict(dataset_dir)\n",
    "ipp50_dataset[0]"
   ]
  },
  {
   "cell_type": "code",
   "execution_count": null,
   "id": "3e78fd99",
   "metadata": {},
   "outputs": [],
   "source": [
    "ipp50_dataset"
   ]
  },
  {
   "cell_type": "code",
   "execution_count": null,
   "id": "6c8b6f7f",
   "metadata": {},
   "outputs": [],
   "source": [
    "from huggingface_hub import login"
   ]
  },
  {
   "cell_type": "code",
   "execution_count": null,
   "id": "f52db83f",
   "metadata": {},
   "outputs": [],
   "source": [
    "login()"
   ]
  },
  {
   "cell_type": "code",
   "execution_count": null,
   "id": "bef2d21a",
   "metadata": {},
   "outputs": [],
   "source": [
    "ipp50_dataset.push_to_hub(\"cesarali/test_ipp50\")"
   ]
  },
  {
   "cell_type": "code",
   "execution_count": null,
   "id": "ac651255",
   "metadata": {},
   "outputs": [],
   "source": []
  }
 ],
 "metadata": {
  "kernelspec": {
   "display_name": "Python 3 (ipykernel)",
   "language": "python",
   "name": "python3"
  },
  "language_info": {
   "codemirror_mode": {
    "name": "ipython",
    "version": 3
   },
   "file_extension": ".py",
   "mimetype": "text/x-python",
   "name": "python",
   "nbconvert_exporter": "python",
   "pygments_lexer": "ipython3",
   "version": "3.10.8"
  }
 },
 "nbformat": 4,
 "nbformat_minor": 5
}
