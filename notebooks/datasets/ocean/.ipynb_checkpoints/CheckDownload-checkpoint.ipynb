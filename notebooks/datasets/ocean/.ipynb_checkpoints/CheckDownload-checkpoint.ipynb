{
 "cells": [
  {
   "cell_type": "code",
   "execution_count": 2,
   "id": "28028b60",
   "metadata": {},
   "outputs": [],
   "source": [
    "import os\n",
    "import sys\n",
    "import torch\n",
    "import numpy as np\n",
    "import pandas as pd\n",
    "\n",
    "import transformers\n",
    "\n",
    "from datasets import (\n",
    "    DatasetDict,\n",
    "    DownloadMode,\n",
    "    get_dataset_split_names,\n",
    "    load_dataset,\n",
    "    load_dataset_builder,\n",
    ")\n",
    "\n",
    "from reasoningschema import data_path\n",
    "raw_path = os.path.join(data_path,\"raw\")"
   ]
  },
  {
   "cell_type": "code",
   "execution_count": 11,
   "id": "f8a78e97",
   "metadata": {},
   "outputs": [
    {
     "name": "stderr",
     "output_type": "stream",
     "text": [
      "Found cached dataset parquet (C:/Users/cesar/Desktop/Projects/Reasoning/Code/ReasoningSchema/data/raw/cesarali___parquet/cesarali--test_ipp50-fb02477406f19e66/0.0.0/2a3b91fbd88a2c90d1dbbb32b460cf621d31bd5b05b934492fdef7d8d6f236ec)\n"
     ]
    },
    {
     "data": {
      "application/vnd.jupyter.widget-view+json": {
       "model_id": "6629d4b368614b7b82871bb13373589c",
       "version_major": 2,
       "version_minor": 0
      },
      "text/plain": [
       "  0%|          | 0/1 [00:00<?, ?it/s]"
      ]
     },
     "metadata": {},
     "output_type": "display_data"
    }
   ],
   "source": [
    "ipp50_dataset = load_dataset(\n",
    "    \"cesarali/test_ipp50\",\n",
    "    cache_dir=raw_path,\n",
    "    split=None,\n",
    ")"
   ]
  },
  {
   "cell_type": "code",
   "execution_count": 13,
   "id": "bc40da71",
   "metadata": {},
   "outputs": [],
   "source": [
    "dataset = ipp50_dataset[\"train\"]"
   ]
  },
  {
   "cell_type": "code",
   "execution_count": 16,
   "id": "bbb5ba1f",
   "metadata": {},
   "outputs": [
    {
     "data": {
      "text/plain": [
       "{'id': 11,\n",
       " 'question': 'Feel comfortable around people.',\n",
       " 'choices': ['Very Inaccurate',\n",
       "  'Moderately Inaccurate',\n",
       "  'Neither Accurate Nor Inaccurate',\n",
       "  'Moderately Accurate',\n",
       "  'Very Accurate'],\n",
       " 'value': 1.0}"
      ]
     },
     "execution_count": 16,
     "metadata": {},
     "output_type": "execute_result"
    }
   ],
   "source": [
    "dataset[10]"
   ]
  },
  {
   "cell_type": "code",
   "execution_count": null,
   "id": "24d44aec",
   "metadata": {},
   "outputs": [],
   "source": [
    "clients_dataset = load_dataset(\n",
    "    \"cesarali/test_ocean_clients\",\n",
    "    cache_dir=raw_path,\n",
    "    split=None,\n",
    ")"
   ]
  }
 ],
 "metadata": {
  "kernelspec": {
   "display_name": "Python 3 (ipykernel)",
   "language": "python",
   "name": "python3"
  },
  "language_info": {
   "codemirror_mode": {
    "name": "ipython",
    "version": 3
   },
   "file_extension": ".py",
   "mimetype": "text/x-python",
   "name": "python",
   "nbconvert_exporter": "python",
   "pygments_lexer": "ipython3",
   "version": "3.10.8"
  }
 },
 "nbformat": 4,
 "nbformat_minor": 5
}
