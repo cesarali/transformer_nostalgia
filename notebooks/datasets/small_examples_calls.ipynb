{
 "cells": [
  {
   "cell_type": "code",
   "execution_count": null,
   "id": "4bd4b0ab",
   "metadata": {},
   "outputs": [],
   "source": [
    "import os\n",
    "from pathlib import Path\n",
    "\n",
    "from datasets import (\n",
    "    DatasetDict,\n",
    "    DownloadMode,\n",
    "    get_dataset_split_names,\n",
    "    load_dataset,\n",
    "    load_dataset_builder,\n",
    ")\n",
    "\n",
    "from reasoningschema import data_path\n",
    "raw_path = os.path.join(data_path,\"raw\")"
   ]
  },
  {
   "cell_type": "code",
   "execution_count": null,
   "id": "a8b0cc22",
   "metadata": {},
   "outputs": [],
   "source": [
    "squad = load_dataset(\"squad\",cache_dir=raw_path,split=\"train[:5000]\")\n",
    "squad = squad.train_test_split(test_size=0.2)"
   ]
  },
  {
   "cell_type": "code",
   "execution_count": null,
   "id": "fe585ded",
   "metadata": {},
   "outputs": [],
   "source": [
    "squad[\"train\"][0]"
   ]
  },
  {
   "cell_type": "code",
   "execution_count": null,
   "id": "f7072385",
   "metadata": {},
   "outputs": [],
   "source": [
    "get_dataset_split_names(\"commonsense_qa\")"
   ]
  },
  {
   "cell_type": "code",
   "execution_count": null,
   "id": "7dbd3452",
   "metadata": {},
   "outputs": [],
   "source": [
    "dataset = load_dataset(\"commonsense_qa\",\n",
    "                       cache_dir=raw_path,\n",
    "                       split=\"train\")"
   ]
  },
  {
   "cell_type": "code",
   "execution_count": null,
   "id": "3d38281c",
   "metadata": {},
   "outputs": [],
   "source": [
    "len(dataset)"
   ]
  },
  {
   "cell_type": "code",
   "execution_count": null,
   "id": "1468deeb",
   "metadata": {},
   "outputs": [],
   "source": [
    "from reasoningschema.data.dataloaders.reasoning import (\n",
    "    CommonsenseQADataLoader,\n",
    "    load_tokenizer,\n",
    ")\n",
    "from reasoningschema.utils.helper import load_prompting_text"
   ]
  },
  {
   "cell_type": "code",
   "execution_count": null,
   "id": "5e468f76",
   "metadata": {},
   "outputs": [],
   "source": [
    "from transformers import GPT2Tokenizer, GPT2Model\n",
    "tokenizer = GPT2Tokenizer.from_pretrained('gpt2')\n",
    "tokenizer.add_special_tokens({'pad_token': '[PAD]'})"
   ]
  },
  {
   "cell_type": "code",
   "execution_count": null,
   "id": "a4720df9",
   "metadata": {},
   "outputs": [],
   "source": [
    "#tokenizer = load_tokenizer(\"meta-llama/Llama-2-7b-chat-hf\")"
   ]
  },
  {
   "cell_type": "code",
   "execution_count": null,
   "id": "9d4371f6",
   "metadata": {},
   "outputs": [],
   "source": [
    "dataloader = CommonsenseQADataLoader(batch_size=32,\n",
    "                                     test_batch_size=8, \n",
    "                                     supervised=True,\n",
    "                                     tokenizer=tokenizer,\n",
    "                                     root_dir=raw_path)"
   ]
  },
  {
   "cell_type": "code",
   "execution_count": null,
   "id": "af150e0f",
   "metadata": {},
   "outputs": [],
   "source": [
    "dataset = getattr(dataloader, \"train\" + \"_it\")\n",
    "databatch = next(dataset.__iter__())\n",
    "len(databatch[\"input_ids\"])"
   ]
  },
  {
   "cell_type": "code",
   "execution_count": null,
   "id": "99100cfc",
   "metadata": {},
   "outputs": [],
   "source": [
    "dataloader.train[0]"
   ]
  }
 ],
 "metadata": {
  "kernelspec": {
   "display_name": "Python 3 (ipykernel)",
   "language": "python",
   "name": "python3"
  },
  "language_info": {
   "codemirror_mode": {
    "name": "ipython",
    "version": 3
   },
   "file_extension": ".py",
   "mimetype": "text/x-python",
   "name": "python",
   "nbconvert_exporter": "python",
   "pygments_lexer": "ipython3",
   "version": "3.10.8"
  }
 },
 "nbformat": 4,
 "nbformat_minor": 5
}
