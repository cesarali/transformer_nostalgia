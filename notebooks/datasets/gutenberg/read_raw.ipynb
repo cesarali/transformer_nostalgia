{
 "cells": [
  {
   "cell_type": "code",
   "execution_count": null,
   "id": "4c87bd38",
   "metadata": {},
   "outputs": [],
   "source": [
    "import os\n",
    "import sys\n",
    "\n",
    "import gzip\n",
    "import numpy as np\n",
    "import pandas as pd\n",
    "from pprint import pprint"
   ]
  },
  {
   "cell_type": "code",
   "execution_count": null,
   "id": "13cb130b",
   "metadata": {},
   "outputs": [],
   "source": [
    "import torch"
   ]
  },
  {
   "cell_type": "code",
   "execution_count": null,
   "id": "3d420da0",
   "metadata": {},
   "outputs": [],
   "source": [
    "from reasoningschema import data_path"
   ]
  },
  {
   "cell_type": "code",
   "execution_count": null,
   "id": "563324c0",
   "metadata": {},
   "outputs": [],
   "source": [
    "raw_path = os.path.join(data_path,\"raw\",\"gutenberg_data\",\"text\")\n",
    "file_path = os.path.join(raw_path,'1001.txt.gz')"
   ]
  },
  {
   "cell_type": "code",
   "execution_count": null,
   "id": "9379d81e",
   "metadata": {},
   "outputs": [],
   "source": [
    "all_file_names = os.listdir(raw_path)"
   ]
  },
  {
   "cell_type": "code",
   "execution_count": null,
   "id": "732c0428",
   "metadata": {},
   "outputs": [],
   "source": [
    "len(all_file_names)"
   ]
  },
  {
   "cell_type": "code",
   "execution_count": null,
   "id": "df5d9fdf",
   "metadata": {},
   "outputs": [],
   "source": [
    "file_ = gzip.open(file_path,\"rb\")"
   ]
  },
  {
   "cell_type": "code",
   "execution_count": null,
   "id": "4f04c5b2",
   "metadata": {},
   "outputs": [],
   "source": [
    "file_text = file_.read()"
   ]
  },
  {
   "cell_type": "code",
   "execution_count": null,
   "id": "97627ad8",
   "metadata": {},
   "outputs": [],
   "source": [
    "pprint(file_text)"
   ]
  }
 ],
 "metadata": {
  "kernelspec": {
   "display_name": "Python 3 (ipykernel)",
   "language": "python",
   "name": "python3"
  },
  "language_info": {
   "codemirror_mode": {
    "name": "ipython",
    "version": 3
   },
   "file_extension": ".py",
   "mimetype": "text/x-python",
   "name": "python",
   "nbconvert_exporter": "python",
   "pygments_lexer": "ipython3",
   "version": "3.10.8"
  }
 },
 "nbformat": 4,
 "nbformat_minor": 5
}
