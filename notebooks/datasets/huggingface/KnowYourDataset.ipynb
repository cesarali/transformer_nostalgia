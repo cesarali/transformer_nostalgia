{
 "cells": [
  {
   "cell_type": "code",
   "execution_count": null,
   "id": "3e4d3b14",
   "metadata": {},
   "outputs": [],
   "source": [
    "import os\n",
    "import torch\n",
    "import numpy as np\n",
    "import pandas as pd\n",
    "import transformers\n",
    "\n",
    "from datasets import (\n",
    "    get_dataset_split_names,\n",
    "    load_dataset_builder,\n",
    "    load_dataset\n",
    ")\n",
    "\n",
    "from reasoningschema import data_path\n",
    "raw_path = os.path.join(data_path,\"raw\")"
   ]
  },
  {
   "cell_type": "code",
   "execution_count": null,
   "id": "4e7094e6",
   "metadata": {},
   "outputs": [],
   "source": [
    "dataset = load_dataset(\"rotten_tomatoes\", cache_dir=raw_path, split=\"train\")"
   ]
  }
 ],
 "metadata": {
  "kernelspec": {
   "display_name": "Python 3 (ipykernel)",
   "language": "python",
   "name": "python3"
  },
  "language_info": {
   "codemirror_mode": {
    "name": "ipython",
    "version": 3
   },
   "file_extension": ".py",
   "mimetype": "text/x-python",
   "name": "python",
   "nbconvert_exporter": "python",
   "pygments_lexer": "ipython3",
   "version": "3.10.8"
  }
 },
 "nbformat": 4,
 "nbformat_minor": 5
}
