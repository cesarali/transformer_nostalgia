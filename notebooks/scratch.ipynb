{
 "cells": [
  {
   "cell_type": "code",
   "execution_count": null,
   "metadata": {},
   "outputs": [],
   "source": [
    "from transformers import GPT2Tokenizer, GPT2LMHeadModel, AddedToken, AutoModelForCausalLM\n",
    "tokenizer = GPT2Tokenizer.from_pretrained('gpt2')\n",
    "tokenizer.add_special_tokens({\"pad_token\": AddedToken(\"<pad>\", normalized=False)})\n",
    "model = AutoModelForCausalLM.from_pretrained('gpt2')\n",
    "model.config.pad_token_id = tokenizer.pad_token_id\n",
    "model.resize_token_embeddings(len(tokenizer))\n",
    "model.transformer.wte.padding_idx = tokenizer.pad_token_id\n",
    "model.transformer.wte._fill_padding_idx_with_zero()\n",
    "text = [\"Replace me by any text you'd like.\", \"I love you!\"]\n",
    "encoded_input = tokenizer(text, return_tensors='pt', return_token_type_ids=True,\n",
    "                truncation=True,\n",
    "                padding=\"max_length\",\n",
    "                max_length=800)\n",
    "output = model(input_ids=encoded_input[\"input_ids\"], attention_mask = encoded_input[\"attention_mask\"])"
   ]
  },
  {
   "cell_type": "code",
   "execution_count": null,
   "metadata": {},
   "outputs": [],
   "source": [
    "encoded_input"
   ]
  },
  {
   "cell_type": "code",
   "execution_count": null,
   "metadata": {},
   "outputs": [],
   "source": []
  }
 ],
 "metadata": {
  "kernelspec": {
   "display_name": "Python 3 (ipykernel)",
   "language": "python",
   "name": "python3"
  },
  "language_info": {
   "codemirror_mode": {
    "name": "ipython",
    "version": 3
   },
   "file_extension": ".py",
   "mimetype": "text/x-python",
   "name": "python",
   "nbconvert_exporter": "python",
   "pygments_lexer": "ipython3",
   "version": "3.10.11"
  }
 },
 "nbformat": 4,
 "nbformat_minor": 2
}
