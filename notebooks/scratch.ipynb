{
 "cells": [
  {
   "cell_type": "code",
   "execution_count": 47,
   "metadata": {},
   "outputs": [],
   "source": [
    "from transformers import GPT2Tokenizer, GPT2LMHeadModel, AddedToken, AutoModelForCausalLM\n",
    "tokenizer = GPT2Tokenizer.from_pretrained('gpt2')\n",
    "tokenizer.add_special_tokens({\"pad_token\": AddedToken(\"<pad>\", normalized=False)})\n",
    "model = AutoModelForCausalLM.from_pretrained('gpt2')\n",
    "model.config.pad_token_id = tokenizer.pad_token_id\n",
    "model.resize_token_embeddings(len(tokenizer))\n",
    "model.transformer.wte.padding_idx = tokenizer.pad_token_id\n",
    "model.transformer.wte._fill_padding_idx_with_zero()\n",
    "text = [\"Replace me by any text you'd like.\", \"I love you!\"]\n",
    "encoded_input = tokenizer(text, return_tensors='pt', return_token_type_ids=True,\n",
    "                truncation=True,\n",
    "                padding=\"max_length\",\n",
    "                max_length=800)\n",
    "output = model(input_ids=encoded_input[\"input_ids\"], attention_mask = encoded_input[\"attention_mask\"])"
   ]
  },
  {
   "cell_type": "code",
   "execution_count": 45,
   "metadata": {},
   "outputs": [
    {
     "data": {
      "text/plain": [
       "{'input_ids': tensor([[ 3041,  5372,   502,  ..., 50257, 50257, 50257],\n",
       "        [   40,  1842,   345,  ..., 50257, 50257, 50257]]), 'token_type_ids': tensor([[0, 0, 0,  ..., 0, 0, 0],\n",
       "        [0, 0, 0,  ..., 0, 0, 0]]), 'attention_mask': tensor([[1, 1, 1,  ..., 0, 0, 0],\n",
       "        [1, 1, 1,  ..., 0, 0, 0]])}"
      ]
     },
     "execution_count": 45,
     "metadata": {},
     "output_type": "execute_result"
    }
   ],
   "source": [
    "encoded_input"
   ]
  },
  {
   "cell_type": "code",
   "execution_count": null,
   "metadata": {},
   "outputs": [],
   "source": []
  }
 ],
 "metadata": {
  "kernelspec": {
   "display_name": "Python 3 (ipykernel)",
   "language": "python",
   "name": "python3"
  },
  "language_info": {
   "codemirror_mode": {
    "name": "ipython",
    "version": 3
   },
   "file_extension": ".py",
   "mimetype": "text/x-python",
   "name": "python",
   "nbconvert_exporter": "python",
   "pygments_lexer": "ipython3",
   "version": "3.10.11"
  },
  "orig_nbformat": 4
 },
 "nbformat": 4,
 "nbformat_minor": 2
}
